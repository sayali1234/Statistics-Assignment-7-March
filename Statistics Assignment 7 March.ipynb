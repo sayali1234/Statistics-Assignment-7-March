{
 "cells": [
  {
   "cell_type": "markdown",
   "id": "c59c46a4-5aed-4c51-bbf0-f0a154bfea9a",
   "metadata": {},
   "source": [
    "Q1) What are the three measures of central tendency?"
   ]
  },
  {
   "cell_type": "code",
   "execution_count": null,
   "id": "af54141d-edfe-4f08-9342-b92596245eb5",
   "metadata": {},
   "outputs": [],
   "source": [
    "The three measures of central tendency are:\n",
    "\n",
    "1)Mean: The mean is the average of a set of numbers. It is calculated by adding all the numbers in the set and dividing the \n",
    "sum by the total number of values.\n",
    "Suppose we have a set of numbers {2, 4, 6, 8, 10}. To find the mean, we add up all the numbers in the set and divide by \n",
    "the total number of values: (2 + 4 + 6 + 8 + 10) / 5 = 30 / 5 = 6. So the mean of this set is 6.\n",
    "\n",
    "2)Median: The median is the middle value in a set of numbers that have been arranged in order. It is the value that\n",
    "separates the higher half from the lower half of the data.Suppose we have a set of numbers {3, 6, 7, 9, 10, 12, 14}. \n",
    "To find the median, we first arrange the numbers in order from smallest to largest: {3, 6, 7, 9, 10, 12, 14}. The middle \n",
    "value is 9, so the median of this set is 9.\n",
    "\n",
    "3)Mode: The mode is the value that occurs most frequently in a set of data. It is the number that appears with the \n",
    "greatest frequency.Suppose we have a set of numbers {2, 4, 6, 4, 8, 10, 4}. To find the mode, we look for the value that\n",
    "occurs most frequently. In this set, the value 4 appears three times, which is more than any other value. So the mode of\n",
    "this set is 4."
   ]
  },
  {
   "cell_type": "markdown",
   "id": "b62a342f-5df2-4892-8cb6-1c5edd2405d0",
   "metadata": {},
   "source": [
    "Q2) What is the difference between the mean, median, and mode? How are they used to measure the\n",
    "central tendency of a dataset?"
   ]
  },
  {
   "cell_type": "code",
   "execution_count": null,
   "id": "8f7d8018-0d59-45fd-ba67-ce26e3f749b5",
   "metadata": {},
   "outputs": [],
   "source": [
    "The mean, median, and mode are all measures of central tendency in a dataset. Each of them provides information about \n",
    "where the data points tend to cluster.\n",
    "\n",
    "The mean is the arithmetic average of all the data points in a dataset. It is calculated by summing all the values and \n",
    "dividing by the number of values. The mean is sensitive to outliers, which means that if there are extreme values in the\n",
    "dataset, they can greatly affect the value of the mean.\n",
    "\n",
    "The median is the middle value in a dataset when the data points are ordered from smallest to largest. If there is an even\n",
    "number of data points, the median is calculated as the average of the two middle values. The median is less sensitive to \n",
    "outliers than the mean, because it only depends on the values that are closer to the center of the dataset.\n",
    "\n",
    "The mode is the most common value in a dataset. It is the value that appears most frequently. The mode can be used to\n",
    "describe the typical value in a dataset, especially when the data is discrete and has a clear mode.\n",
    "\n",
    "All three measures of central tendency are useful for different types of data and situations. The mean is often used for \n",
    "continuous data that is normally distributed, while the median is used for skewed data or when there are outliers. \n",
    "The mode is useful for data with a clear peak or cluster of values."
   ]
  },
  {
   "cell_type": "markdown",
   "id": "3bc41424-4351-4508-bc00-50758b23cbc8",
   "metadata": {},
   "source": [
    "Q3) Measure the three measures of central tendency for the given height data:\n",
    "[178,177,176,177,178.2,178,175,179,180,175,178.9,176.2,177,172.5,178,176.5]"
   ]
  },
  {
   "cell_type": "code",
   "execution_count": 2,
   "id": "2cc56ba2-e0fe-492a-b831-5077caf2de42",
   "metadata": {},
   "outputs": [
    {
     "name": "stdout",
     "output_type": "stream",
     "text": [
      "Mean:  177.01875\n",
      "Median:  177.0\n",
      "Mode:  178\n"
     ]
    }
   ],
   "source": [
    "import statistics\n",
    "\n",
    "data = [178, 177, 176, 177, 178.2, 178, 175, 179, 180, 175, 178.9, 176.2, 177, 172.5, 178, 176.5]\n",
    "\n",
    "# Calculate the mean\n",
    "mean = statistics.mean(data)\n",
    "print(\"Mean: \", mean)\n",
    "\n",
    "# Calculate the median\n",
    "median = statistics.median(data)\n",
    "print(\"Median: \", median)\n",
    "\n",
    "# Calculate the mode\n",
    "mode = statistics.mode(data)\n",
    "print(\"Mode: \", mode)"
   ]
  },
  {
   "cell_type": "markdown",
   "id": "081050d4-9f33-440b-936d-e108d2ee9816",
   "metadata": {},
   "source": [
    "Q4) Find the standard deviation for the given data:\n",
    "[178,177,176,177,178.2,178,175,179,180,175,178.9,176.2,177,172.5,178,176.5]"
   ]
  },
  {
   "cell_type": "code",
   "execution_count": 3,
   "id": "811d2786-5194-40c6-910b-0d7f1059878a",
   "metadata": {},
   "outputs": [
    {
     "name": "stdout",
     "output_type": "stream",
     "text": [
      "Standard deviation:  1.8472389305844188\n"
     ]
    }
   ],
   "source": [
    "import statistics\n",
    "\n",
    "data = [178, 177, 176, 177, 178.2, 178, 175, 179, 180, 175, 178.9, 176.2, 177, 172.5, 178, 176.5]\n",
    "\n",
    "# Calculate the standard deviation\n",
    "stdev = statistics.stdev(data)\n",
    "print(\"Standard deviation: \", stdev)"
   ]
  },
  {
   "cell_type": "markdown",
   "id": "dc05d9b8-3415-4232-89ba-7a80961d4894",
   "metadata": {},
   "source": [
    "Q5) How are measures of dispersion such as range, variance, and standard deviation used to describe\n",
    "the spread of a dataset? Provide an example."
   ]
  },
  {
   "cell_type": "code",
   "execution_count": null,
   "id": "6a2d03eb-3f55-4745-8e91-9b3ba5f1c604",
   "metadata": {},
   "outputs": [],
   "source": [
    "Measures of dispersion such as range, variance, and standard deviation are used to describe the spread of a dataset by \n",
    "quantifying how much the individual data points deviate from the central tendency of the dataset.\n",
    "\n",
    "1)Range: The range is the difference between the maximum and minimum values in a dataset. It provides a quick way to get\n",
    "an idea of how spread out the data is. However, it is sensitive to outliers and may not provide a reliable measure of \n",
    "dispersion in datasets with extreme values.\n",
    "\n",
    "2)Variance: The variance is the average of the squared differences between each data point and the mean of the dataset. \n",
    "It measures how much the data is spread out from the mean. A higher variance indicates that the data is more spread out,\n",
    "while a lower variance indicates that the data is more tightly clustered around the mean.\n",
    "\n",
    "3)Standard deviation: The standard deviation is the square root of the variance. It provides a more intuitive measure of\n",
    "the spread of the data, as it is in the same units as the data. A larger standard deviation indicates that the data is \n",
    "more spread out, while a smaller standard deviation indicates that the data is more tightly clustered around the mean.\n",
    "\n",
    "For example:"
   ]
  },
  {
   "cell_type": "code",
   "execution_count": 4,
   "id": "f982bb4f-3535-417c-bf91-c17699b53278",
   "metadata": {},
   "outputs": [
    {
     "name": "stdout",
     "output_type": "stream",
     "text": [
      "Range:  20\n",
      "Variance:  50.0\n",
      "Standard deviation:  7.0710678118654755\n"
     ]
    }
   ],
   "source": [
    "import statistics\n",
    "\n",
    "data = [5, 10, 15, 20, 25]\n",
    "\n",
    "# Calculate the range\n",
    "range_data = max(data) - min(data)\n",
    "print(\"Range: \", range_data)\n",
    "\n",
    "# Calculate the variance\n",
    "mean = statistics.mean(data)\n",
    "variance = sum((x - mean) ** 2 for x in data) / len(data)\n",
    "print(\"Variance: \", variance)\n",
    "\n",
    "# Calculate the standard deviation\n",
    "stdev = variance ** 0.5\n",
    "print(\"Standard deviation: \", stdev)"
   ]
  },
  {
   "cell_type": "markdown",
   "id": "6d1c3b55-272a-4138-8474-c9ac4230c001",
   "metadata": {},
   "source": [
    "Q6) What is a Venn diagram?"
   ]
  },
  {
   "cell_type": "code",
   "execution_count": null,
   "id": "c5de63ea-8bc3-4c1e-8bf8-c7e2d791afda",
   "metadata": {},
   "outputs": [],
   "source": [
    "A Venn diagram is a graphical representation of the relationships between sets. It consists of overlapping circles or \n",
    "other closed shapes, with each shape representing a set and the overlapping region representing the intersection of those\n",
    "sets. The Venn diagram is named after the British logician John Venn, who introduced the concept in 1880.\n",
    "\n",
    "Venn diagrams are commonly used in mathematics, statistics, logic, and other fields to visualize the relationships between\n",
    "sets and to illustrate concepts such as union, intersection, and complement. They are particularly useful for representing\n",
    "complex sets with multiple overlapping subsets, and for visualizing the results of set operations such as union,\n",
    "intersection, and difference."
   ]
  },
  {
   "cell_type": "markdown",
   "id": "f414de7e-1036-4fba-b1f9-84d315272ade",
   "metadata": {},
   "source": [
    "Q7) For the two given sets A = (2,3,4,5,6,7) & B = (0,2,6,8,10). Find:\n",
    "(i) A B\n",
    "(ii) A ⋃ B"
   ]
  },
  {
   "cell_type": "code",
   "execution_count": 6,
   "id": "75cb6ff5-b58f-4f7b-b88d-948f3af06fa7",
   "metadata": {},
   "outputs": [
    {
     "name": "stdout",
     "output_type": "stream",
     "text": [
      "The intersection of sets A and B is: {2, 6}\n",
      "The union of sets A and B is: {0, 2, 3, 4, 5, 6, 7, 8, 10}\n"
     ]
    }
   ],
   "source": [
    " #Define the sets A and B\n",
    "A = {2, 3, 4, 5, 6, 7}\n",
    "B = {0, 2, 6, 8, 10}\n",
    "\n",
    "# Find the intersection of sets A and B\n",
    "intersection = A.intersection(B)\n",
    "print(\"The intersection of sets A and B is:\", intersection)\n",
    "\n",
    "# Find the union of sets A and B\n",
    "union = A.union(B)\n",
    "print(\"The union of sets A and B is:\", union)"
   ]
  },
  {
   "cell_type": "markdown",
   "id": "5c04cf93-9fd8-4fe4-bc2c-53b6cdc568f4",
   "metadata": {},
   "source": [
    "Q8) What do you understand about skewness in data?"
   ]
  },
  {
   "cell_type": "code",
   "execution_count": null,
   "id": "eb1c1d35-9f3f-4573-88e7-3ae7ccf37cdc",
   "metadata": {},
   "outputs": [],
   "source": [
    "Skewness is a measure of the asymmetry of a distribution of data. In other words, it describes how much a dataset deviates\n",
    "from a normal or symmetric distribution.\n",
    "\n",
    "A distribution is considered to be skewed if it is not symmetrical, meaning that the two sides of the distribution are not\n",
    "mirror images of each other. If the tail of the distribution is longer on one side than the other, the distribution is\n",
    "said to be skewed in the direction of the longer tail.\n",
    "\n",
    "There are two types of skewness:\n",
    "\n",
    "1)Positive skewness: If the tail of the distribution is longer on the positive side, it is considered to be positively\n",
    "skewed. The mean of the data is usually greater than the median in a positively skewed distribution.\n",
    "\n",
    "2)Negative skewness: If the tail of the distribution is longer on the negative side, it is considered to be negatively \n",
    "skewed. The mean of the data is usually less than the median in a negatively skewed distribution.\n",
    "\n",
    "Skewness is an important concept in statistics because it can affect the interpretation of the data and the validity of \n",
    "some statistical tests. For example, if the data is skewed, the mean may not be an appropriate measure of central\n",
    "tendency, and the use of non-parametric tests may be more appropriate than parametric tests.\n",
    "\n"
   ]
  },
  {
   "cell_type": "markdown",
   "id": "81e26758-26d5-424c-b686-d6a8214a7772",
   "metadata": {},
   "source": [
    "Q9) If a data is right skewed then what will be the position of median with respect to mean?"
   ]
  },
  {
   "cell_type": "code",
   "execution_count": null,
   "id": "125d4a62-1852-43c6-b9d9-0884961df054",
   "metadata": {},
   "outputs": [],
   "source": [
    "If a data is right-skewed, the median will be less than the mean.\n",
    "\n",
    "This is because in a right-skewed distribution, the tail of the distribution is longer on the right side, which means \n",
    "there are some extreme values on the right side that pull the mean in that direction. The median, on the other hand, is \n",
    "not affected by extreme values in the same way as the mean, so it remains closer to the center of the distribution.\n",
    "Therefore, the median is typically less than the mean in a right-skewed distribution."
   ]
  },
  {
   "cell_type": "markdown",
   "id": "caee0652-6f82-484a-a2d6-e55c3e37206b",
   "metadata": {},
   "source": [
    "Q10) Explain the difference between covariance and correlation. How are these measures used in\n",
    "statistical analysis?"
   ]
  },
  {
   "cell_type": "code",
   "execution_count": null,
   "id": "6701e7b1-27f6-4e8c-a7cf-153f0ec9badf",
   "metadata": {},
   "outputs": [],
   "source": [
    "Covariance and correlation are two statistical measures that describe the relationship between two variables.\n",
    "\n",
    "1)Covariance is a measure of how two variables vary together. Specifically, it measures the degree to which two variables\n",
    "tend to move in the same direction. A positive covariance means that when one variable goes up, the other tends to go up \n",
    "as well, and vice versa for a negative covariance. However, covariance does not give information about the strength of the\n",
    "relationship or the degree to which the variables are related.\n",
    "\n",
    "2)Correlation, on the other hand, is a standardized measure of the relationship between two variables. Unlike covariance,\n",
    "correlation takes values between -1 and 1, where -1 indicates a perfect negative correlation, 1 indicates a perfect \n",
    "positive correlation, and 0 indicates no correlation at all. Correlation measures not only the direction of the relationship but also its strength.\n",
    "\n",
    "In statistical analysis, covariance and correlation are used to analyze the relationship between two variables. Covariance\n",
    "is useful for understanding the direction of the relationship, but correlation is often preferred because it standardizes\n",
    "the measure and allows for comparisons between different datasets. Correlation is particularly useful in situations where\n",
    "we want to compare the relationship between two variables with different units of measurement or scales. For example, we \n",
    "can use correlation to measure the strength of the relationship between a person's height and weight, even though height\n",
    "and weight are measured in different units."
   ]
  },
  {
   "cell_type": "markdown",
   "id": "cea98ea8-aff3-414c-ab1c-44fe57449fb7",
   "metadata": {},
   "source": [
    "Q11) What is the formula for calculating the sample mean? Provide an example calculation for a\n",
    "dataset."
   ]
  },
  {
   "cell_type": "code",
   "execution_count": null,
   "id": "c186638f-058f-48e1-81af-65d3cc37d842",
   "metadata": {},
   "outputs": [],
   "source": [
    "The formula for calculating the sample mean is:\n",
    "\n",
    "sample mean = (sum of all values in the sample) / (number of values in the sample)\n",
    "\n",
    "For example, suppose we have the following dataset of test scores for a class of 10 students:\n",
    "\n",
    "85, 76, 92, 88, 79, 91, 83, 80, 87, 90\n",
    "\n",
    "To calculate the sample mean, we first add up all the values in the sample:\n",
    "\n",
    "85 + 76 + 92 + 88 + 79 + 91 + 83 + 80 + 87 + 90 = 851\n",
    "\n",
    "Next, we divide the sum by the number of values in the sample, which in this case is 10:\n",
    "\n",
    "sample mean = 851 / 10 = 85.1\n",
    "\n",
    "Therefore, the sample mean for this dataset is 85.1."
   ]
  },
  {
   "cell_type": "code",
   "execution_count": 7,
   "id": "f190b00e-cb07-4218-afa0-a2e013d6654e",
   "metadata": {},
   "outputs": [
    {
     "name": "stdout",
     "output_type": "stream",
     "text": [
      "Sample mean = 85.1\n"
     ]
    }
   ],
   "source": [
    "# Define the dataset\n",
    "data = [85, 76, 92, 88, 79, 91, 83, 80, 87, 90]\n",
    "\n",
    "# Calculate the sample mean\n",
    "sample_mean = sum(data) / len(data)\n",
    "\n",
    "# Print the sample mean\n",
    "print(\"Sample mean =\", sample_mean)"
   ]
  },
  {
   "cell_type": "markdown",
   "id": "c563f587-899c-496b-aaf6-fb0a7294269d",
   "metadata": {},
   "source": [
    "Q12) For a normal distribution data what is the relationship between its measure of central tendency?"
   ]
  },
  {
   "cell_type": "code",
   "execution_count": null,
   "id": "89a9f7d5-ddf9-45d5-976e-32eb678de847",
   "metadata": {},
   "outputs": [],
   "source": [
    "For a normal distribution data, the mean, median, and mode are all equal. This is because a normal distribution is \n",
    "symmetric around its mean, and the mean is located at the peak of the distribution. Additionally, the tails of a normal \n",
    "distribution decay exponentially, which means that the mode and median are also located at the same point as the mean.\n",
    "\n",
    "Therefore, for a normal distribution data, the measures of central tendency - mean, median, and mode - are all equal and \n",
    "located at the center of the distribution."
   ]
  },
  {
   "cell_type": "markdown",
   "id": "576dc079-e3f2-4975-bb11-1b46867ef354",
   "metadata": {},
   "source": [
    "Q13) How is covariance different from correlation?"
   ]
  },
  {
   "cell_type": "code",
   "execution_count": null,
   "id": "46ff8894-8864-4651-a5fa-b3212523a942",
   "metadata": {},
   "outputs": [],
   "source": [
    "Covariance and correlation are both measures of the relationship between two variables. However, they differ in their \n",
    "interpretation and scale.\n",
    "\n",
    "Covariance measures the direction and strength of the linear relationship between two variables. It measures how much two\n",
    "variables change together, i.e., if one variable increases, does the other variable also increase, decrease or remain \n",
    "constant. Covariance can be positive, indicating a positive relationship where both variables tend to increase or decrease\n",
    "together, or negative, indicating a negative relationship where one variable increases as the other decreases. Covariance\n",
    "can be calculated using the formula:\n",
    "\n",
    "cov(X, Y) = (Σ(X - μX)(Y - μY)) / (n - 1) where X and Y are the two variables, μX and μY are their respective means, and\n",
    "n is the number of observations.\n",
    "\n",
    "The correlation coefficient, on the other hand, measures the strength and direction of the linear relationship between two\n",
    "variables, but it is scaled between -1 and 1, making it easier to interpret. Correlation can be positive, negative, or \n",
    "zero, indicating the strength and direction of the relationship. A correlation of +1 indicates a perfect positive\n",
    "relationship, a correlation of -1 indicates a perfect negative relationship, and a correlation of 0 indicates no \n",
    "relationship at all. Correlation can be calculated using the formula:\n",
    "\n",
    "r = cov(X, Y) / (sX * sY) where r is the correlation coefficient, cov(X, Y) is the covariance between X and Y, and sX and \n",
    "sY are the standard deviations of X and Y, respectively.\n",
    "\n",
    "Therefore, the main difference between covariance and correlation is that covariance is not scaled, and its value depends\n",
    "on the units of measurement of the two variables. In contrast, correlation is scaled and ranges between -1 and 1, making \n",
    "it easier to interpret and compare across different datasets."
   ]
  },
  {
   "cell_type": "markdown",
   "id": "d5cb4eea-22de-4e03-8291-43f655a50539",
   "metadata": {},
   "source": [
    "Q14) How do outliers affect measures of central tendency and dispersion? Provide an example."
   ]
  },
  {
   "cell_type": "code",
   "execution_count": null,
   "id": "d2a5c733-4d82-4500-aa8d-1516b9c26343",
   "metadata": {},
   "outputs": [],
   "source": [
    "Outliers can significantly affect the measures of central tendency and dispersion in a dataset. An outlier is an\n",
    "observation that falls significantly outside the range of the other observations in the dataset. Outliers can be caused by\n",
    "measurement errors, data entry errors, or simply by chance.\n",
    "\n",
    "The presence of outliers can distort the measures of central tendency, such as the mean and the median, as they can pull \n",
    "the average value towards their direction. For example, in a dataset of salaries where most of the salaries are in the \n",
    "range of Rs.30,000 to Rs.80,000 per year, an outlier salary of Rs.500,000 per year will significantly increase the mean \n",
    "salary value, making it higher than the typical salary in the dataset. In contrast, the median salary will be less \n",
    "affected by the outlier, as it only considers the middle value in the dataset.\n",
    "\n",
    "Outliers can also affect the measures of dispersion, such as the range, variance, and standard deviation, as they can\n",
    "increase or decrease the spread of the dataset. For example, if we consider the same salary dataset as above, an outlier\n",
    "salary of Rs.500,000 per year will increase the range, variance, and standard deviation, making the spread of the dataset\n",
    "appear larger than it actually is.\n",
    "\n",
    "In summary, outliers can have a significant impact on the measures of central tendency and dispersion in a dataset. It is \n",
    "important to identify and handle outliers appropriately to avoid drawing incorrect conclusions from the data.\n",
    "\n",
    "Here's an example in Python demonstrating how outliers can affect measures of central tendency and dispersion:"
   ]
  },
  {
   "cell_type": "code",
   "execution_count": 8,
   "id": "e2b70947-94e7-4657-a545-a47f06ce2e38",
   "metadata": {},
   "outputs": [
    {
     "name": "stdout",
     "output_type": "stream",
     "text": [
      "Data: [ 10  20  30  40  50 500]\n",
      "Mean: 108.33333333333333\n",
      "Median: 35.0\n",
      "Range: 490\n",
      "Variance: 30847.222222222223\n",
      "Standard deviation: 175.6337730114064\n"
     ]
    }
   ],
   "source": [
    "import numpy as np\n",
    "\n",
    "# Create a dataset with outliers\n",
    "data = np.array([10, 20, 30, 40, 50, 500])\n",
    "\n",
    "# Calculate measures of central tendency\n",
    "mean = np.mean(data)\n",
    "median = np.median(data)\n",
    "\n",
    "# Calculate measures of dispersion\n",
    "range = np.max(data) - np.min(data)\n",
    "variance = np.var(data)\n",
    "std_deviation = np.std(data)\n",
    "\n",
    "# Print results\n",
    "print(\"Data:\", data)\n",
    "print(\"Mean:\", mean)\n",
    "print(\"Median:\", median)\n",
    "print(\"Range:\", range)\n",
    "print(\"Variance:\", variance)\n",
    "print(\"Standard deviation:\", std_deviation)"
   ]
  },
  {
   "cell_type": "code",
   "execution_count": null,
   "id": "fdd8af66-c78a-4b68-935e-9214b7f21b23",
   "metadata": {},
   "outputs": [],
   "source": [
    "In this example, the dataset contains an outlier value of 500, which is much larger than the other values in the dataset.\n",
    "\n",
    "As we can see, the outlier has a significant impact on the mean, which is much higher than the typical values in the \n",
    "dataset. The median, on the other hand, is less affected by the outlier and is closer to the center of the dataset. The \n",
    "range, variance, and standard deviation are also much larger than they would be if the outlier was not present, \n",
    "indicating that the dataset has a larger spread."
   ]
  }
 ],
 "metadata": {
  "kernelspec": {
   "display_name": "Python 3 (ipykernel)",
   "language": "python",
   "name": "python3"
  },
  "language_info": {
   "codemirror_mode": {
    "name": "ipython",
    "version": 3
   },
   "file_extension": ".py",
   "mimetype": "text/x-python",
   "name": "python",
   "nbconvert_exporter": "python",
   "pygments_lexer": "ipython3",
   "version": "3.10.8"
  }
 },
 "nbformat": 4,
 "nbformat_minor": 5
}
